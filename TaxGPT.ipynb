{
  "nbformat": 4,
  "nbformat_minor": 0,
  "metadata": {
    "colab": {
      "provenance": [],
      "authorship_tag": "ABX9TyOXPhE00dkSkNYfLfiE8YI9",
      "include_colab_link": true
    },
    "kernelspec": {
      "name": "python3",
      "display_name": "Python 3"
    },
    "language_info": {
      "name": "python"
    },
    "widgets": {
      "application/vnd.jupyter.widget-state+json": {
        "60fc07691f2844a2a3cea6cea56dbb5e": {
          "model_module": "@jupyter-widgets/controls",
          "model_name": "FloatProgressModel",
          "model_module_version": "1.5.0",
          "state": {
            "_dom_classes": [],
            "_model_module": "@jupyter-widgets/controls",
            "_model_module_version": "1.5.0",
            "_model_name": "FloatProgressModel",
            "_view_count": null,
            "_view_module": "@jupyter-widgets/controls",
            "_view_module_version": "1.5.0",
            "_view_name": "ProgressView",
            "bar_style": "",
            "description": "",
            "description_tooltip": null,
            "layout": "IPY_MODEL_d748c45e29024ebaa01e4fe9dd96d29f",
            "max": 100,
            "min": 0,
            "orientation": "horizontal",
            "style": "IPY_MODEL_cf9b090d2656405fb154df16527388e5",
            "value": 100
          }
        },
        "d748c45e29024ebaa01e4fe9dd96d29f": {
          "model_module": "@jupyter-widgets/base",
          "model_name": "LayoutModel",
          "model_module_version": "1.2.0",
          "state": {
            "_model_module": "@jupyter-widgets/base",
            "_model_module_version": "1.2.0",
            "_model_name": "LayoutModel",
            "_view_count": null,
            "_view_module": "@jupyter-widgets/base",
            "_view_module_version": "1.2.0",
            "_view_name": "LayoutView",
            "align_content": null,
            "align_items": null,
            "align_self": null,
            "border": null,
            "bottom": null,
            "display": null,
            "flex": null,
            "flex_flow": null,
            "grid_area": null,
            "grid_auto_columns": null,
            "grid_auto_flow": null,
            "grid_auto_rows": null,
            "grid_column": null,
            "grid_gap": null,
            "grid_row": null,
            "grid_template_areas": null,
            "grid_template_columns": null,
            "grid_template_rows": null,
            "height": null,
            "justify_content": null,
            "justify_items": null,
            "left": null,
            "margin": null,
            "max_height": null,
            "max_width": null,
            "min_height": null,
            "min_width": null,
            "object_fit": null,
            "object_position": null,
            "order": null,
            "overflow": null,
            "overflow_x": null,
            "overflow_y": null,
            "padding": null,
            "right": null,
            "top": null,
            "visibility": null,
            "width": "100%"
          }
        },
        "cf9b090d2656405fb154df16527388e5": {
          "model_module": "@jupyter-widgets/controls",
          "model_name": "ProgressStyleModel",
          "model_module_version": "1.5.0",
          "state": {
            "_model_module": "@jupyter-widgets/controls",
            "_model_module_version": "1.5.0",
            "_model_name": "ProgressStyleModel",
            "_view_count": null,
            "_view_module": "@jupyter-widgets/base",
            "_view_module_version": "1.2.0",
            "_view_name": "StyleView",
            "bar_color": "black",
            "description_width": ""
          }
        }
      }
    }
  },
  "cells": [
    {
      "cell_type": "markdown",
      "metadata": {
        "id": "view-in-github",
        "colab_type": "text"
      },
      "source": [
        "<a href=\"https://colab.research.google.com/github/sungkim11/TaxGPT/blob/main/TaxGPT.ipynb\" target=\"_parent\"><img src=\"https://colab.research.google.com/assets/colab-badge.svg\" alt=\"Open In Colab\"/></a>"
      ]
    },
    {
      "cell_type": "markdown",
      "source": [
        "Install Python Packages"
      ],
      "metadata": {
        "id": "NW2gXJfsy3AS"
      }
    },
    {
      "cell_type": "code",
      "execution_count": 226,
      "metadata": {
        "colab": {
          "base_uri": "https://localhost:8080/"
        },
        "id": "B8y9YCmu-Gxq",
        "outputId": "d8874af6-ab7d-4afb-dc75-5c0b29ac0436"
      },
      "outputs": [
        {
          "output_type": "stream",
          "name": "stdout",
          "text": [
            "Overwriting requirements.txt\n"
          ]
        }
      ],
      "source": [
        "%%writefile requirements.txt\n",
        "openai\n",
        "chromadb\n",
        "tiktoken"
      ]
    },
    {
      "cell_type": "code",
      "source": [
        "%pip install -r requirements.txt"
      ],
      "metadata": {
        "colab": {
          "base_uri": "https://localhost:8080/"
        },
        "id": "mOe3ZF6lev20",
        "outputId": "32ec5eb6-34fd-4118-a7a6-28cbfa838a06"
      },
      "execution_count": 227,
      "outputs": [
        {
          "output_type": "stream",
          "name": "stdout",
          "text": [
            "Looking in indexes: https://pypi.org/simple, https://us-python.pkg.dev/colab-wheels/public/simple/\n",
            "Requirement already satisfied: openai in /usr/local/lib/python3.9/dist-packages (from -r requirements.txt (line 1)) (0.27.2)\n",
            "Requirement already satisfied: chromadb in /usr/local/lib/python3.9/dist-packages (from -r requirements.txt (line 2)) (0.3.11)\n",
            "Requirement already satisfied: tiktoken in /usr/local/lib/python3.9/dist-packages (from -r requirements.txt (line 3)) (0.3.2)\n",
            "Requirement already satisfied: tqdm in /usr/local/lib/python3.9/dist-packages (from openai->-r requirements.txt (line 1)) (4.65.0)\n",
            "Requirement already satisfied: requests>=2.20 in /usr/local/lib/python3.9/dist-packages (from openai->-r requirements.txt (line 1)) (2.28.2)\n",
            "Requirement already satisfied: aiohttp in /usr/local/lib/python3.9/dist-packages (from openai->-r requirements.txt (line 1)) (3.8.4)\n",
            "Requirement already satisfied: pandas>=1.3 in /usr/local/lib/python3.9/dist-packages (from chromadb->-r requirements.txt (line 2)) (1.4.4)\n",
            "Requirement already satisfied: fastapi>=0.85.1 in /usr/local/lib/python3.9/dist-packages (from chromadb->-r requirements.txt (line 2)) (0.95.0)\n",
            "Requirement already satisfied: numpy>=1.21.6 in /usr/local/lib/python3.9/dist-packages (from chromadb->-r requirements.txt (line 2)) (1.22.4)\n",
            "Requirement already satisfied: sentence-transformers>=2.2.2 in /usr/local/lib/python3.9/dist-packages (from chromadb->-r requirements.txt (line 2)) (2.2.2)\n",
            "Requirement already satisfied: duckdb>=0.5.1 in /usr/local/lib/python3.9/dist-packages (from chromadb->-r requirements.txt (line 2)) (0.7.1)\n",
            "Requirement already satisfied: uvicorn[standard]>=0.18.3 in /usr/local/lib/python3.9/dist-packages (from chromadb->-r requirements.txt (line 2)) (0.21.1)\n",
            "Requirement already satisfied: clickhouse-connect>=0.5.7 in /usr/local/lib/python3.9/dist-packages (from chromadb->-r requirements.txt (line 2)) (0.5.16)\n",
            "Requirement already satisfied: hnswlib>=0.7 in /usr/local/lib/python3.9/dist-packages (from chromadb->-r requirements.txt (line 2)) (0.7.0)\n",
            "Requirement already satisfied: pydantic>=1.9 in /usr/local/lib/python3.9/dist-packages (from chromadb->-r requirements.txt (line 2)) (1.10.7)\n",
            "Requirement already satisfied: regex>=2022.1.18 in /usr/local/lib/python3.9/dist-packages (from tiktoken->-r requirements.txt (line 3)) (2022.10.31)\n",
            "Requirement already satisfied: zstandard in /usr/local/lib/python3.9/dist-packages (from clickhouse-connect>=0.5.7->chromadb->-r requirements.txt (line 2)) (0.20.0)\n",
            "Requirement already satisfied: urllib3>=1.26 in /usr/local/lib/python3.9/dist-packages (from clickhouse-connect>=0.5.7->chromadb->-r requirements.txt (line 2)) (1.26.15)\n",
            "Requirement already satisfied: pytz in /usr/local/lib/python3.9/dist-packages (from clickhouse-connect>=0.5.7->chromadb->-r requirements.txt (line 2)) (2022.7.1)\n",
            "Requirement already satisfied: lz4 in /usr/local/lib/python3.9/dist-packages (from clickhouse-connect>=0.5.7->chromadb->-r requirements.txt (line 2)) (4.3.2)\n",
            "Requirement already satisfied: certifi in /usr/local/lib/python3.9/dist-packages (from clickhouse-connect>=0.5.7->chromadb->-r requirements.txt (line 2)) (2022.12.7)\n",
            "Requirement already satisfied: starlette<0.27.0,>=0.26.1 in /usr/local/lib/python3.9/dist-packages (from fastapi>=0.85.1->chromadb->-r requirements.txt (line 2)) (0.26.1)\n",
            "Requirement already satisfied: python-dateutil>=2.8.1 in /usr/local/lib/python3.9/dist-packages (from pandas>=1.3->chromadb->-r requirements.txt (line 2)) (2.8.2)\n",
            "Requirement already satisfied: typing-extensions>=4.2.0 in /usr/local/lib/python3.9/dist-packages (from pydantic>=1.9->chromadb->-r requirements.txt (line 2)) (4.5.0)\n",
            "Requirement already satisfied: idna<4,>=2.5 in /usr/local/lib/python3.9/dist-packages (from requests>=2.20->openai->-r requirements.txt (line 1)) (3.4)\n",
            "Requirement already satisfied: charset-normalizer<4,>=2 in /usr/local/lib/python3.9/dist-packages (from requests>=2.20->openai->-r requirements.txt (line 1)) (2.0.12)\n",
            "Requirement already satisfied: scikit-learn in /usr/local/lib/python3.9/dist-packages (from sentence-transformers>=2.2.2->chromadb->-r requirements.txt (line 2)) (1.2.2)\n",
            "Requirement already satisfied: sentencepiece in /usr/local/lib/python3.9/dist-packages (from sentence-transformers>=2.2.2->chromadb->-r requirements.txt (line 2)) (0.1.97)\n",
            "Requirement already satisfied: huggingface-hub>=0.4.0 in /usr/local/lib/python3.9/dist-packages (from sentence-transformers>=2.2.2->chromadb->-r requirements.txt (line 2)) (0.13.3)\n",
            "Requirement already satisfied: torchvision in /usr/local/lib/python3.9/dist-packages (from sentence-transformers>=2.2.2->chromadb->-r requirements.txt (line 2)) (0.14.1+cu116)\n",
            "Requirement already satisfied: torch>=1.6.0 in /usr/local/lib/python3.9/dist-packages (from sentence-transformers>=2.2.2->chromadb->-r requirements.txt (line 2)) (1.13.1+cu116)\n",
            "Requirement already satisfied: nltk in /usr/local/lib/python3.9/dist-packages (from sentence-transformers>=2.2.2->chromadb->-r requirements.txt (line 2)) (3.8.1)\n",
            "Requirement already satisfied: transformers<5.0.0,>=4.6.0 in /usr/local/lib/python3.9/dist-packages (from sentence-transformers>=2.2.2->chromadb->-r requirements.txt (line 2)) (4.27.3)\n",
            "Requirement already satisfied: scipy in /usr/local/lib/python3.9/dist-packages (from sentence-transformers>=2.2.2->chromadb->-r requirements.txt (line 2)) (1.10.1)\n",
            "Requirement already satisfied: h11>=0.8 in /usr/local/lib/python3.9/dist-packages (from uvicorn[standard]>=0.18.3->chromadb->-r requirements.txt (line 2)) (0.14.0)\n",
            "Requirement already satisfied: click>=7.0 in /usr/local/lib/python3.9/dist-packages (from uvicorn[standard]>=0.18.3->chromadb->-r requirements.txt (line 2)) (8.1.3)\n",
            "Requirement already satisfied: httptools>=0.5.0 in /usr/local/lib/python3.9/dist-packages (from uvicorn[standard]>=0.18.3->chromadb->-r requirements.txt (line 2)) (0.5.0)\n",
            "Requirement already satisfied: uvloop!=0.15.0,!=0.15.1,>=0.14.0 in /usr/local/lib/python3.9/dist-packages (from uvicorn[standard]>=0.18.3->chromadb->-r requirements.txt (line 2)) (0.17.0)\n",
            "Requirement already satisfied: pyyaml>=5.1 in /usr/local/lib/python3.9/dist-packages (from uvicorn[standard]>=0.18.3->chromadb->-r requirements.txt (line 2)) (6.0)\n",
            "Requirement already satisfied: python-dotenv>=0.13 in /usr/local/lib/python3.9/dist-packages (from uvicorn[standard]>=0.18.3->chromadb->-r requirements.txt (line 2)) (1.0.0)\n",
            "Requirement already satisfied: watchfiles>=0.13 in /usr/local/lib/python3.9/dist-packages (from uvicorn[standard]>=0.18.3->chromadb->-r requirements.txt (line 2)) (0.18.1)\n",
            "Requirement already satisfied: websockets>=10.4 in /usr/local/lib/python3.9/dist-packages (from uvicorn[standard]>=0.18.3->chromadb->-r requirements.txt (line 2)) (10.4)\n",
            "Requirement already satisfied: yarl<2.0,>=1.0 in /usr/local/lib/python3.9/dist-packages (from aiohttp->openai->-r requirements.txt (line 1)) (1.8.2)\n",
            "Requirement already satisfied: async-timeout<5.0,>=4.0.0a3 in /usr/local/lib/python3.9/dist-packages (from aiohttp->openai->-r requirements.txt (line 1)) (4.0.2)\n",
            "Requirement already satisfied: aiosignal>=1.1.2 in /usr/local/lib/python3.9/dist-packages (from aiohttp->openai->-r requirements.txt (line 1)) (1.3.1)\n",
            "Requirement already satisfied: frozenlist>=1.1.1 in /usr/local/lib/python3.9/dist-packages (from aiohttp->openai->-r requirements.txt (line 1)) (1.3.3)\n",
            "Requirement already satisfied: attrs>=17.3.0 in /usr/local/lib/python3.9/dist-packages (from aiohttp->openai->-r requirements.txt (line 1)) (22.2.0)\n",
            "Requirement already satisfied: multidict<7.0,>=4.5 in /usr/local/lib/python3.9/dist-packages (from aiohttp->openai->-r requirements.txt (line 1)) (6.0.4)\n",
            "Requirement already satisfied: filelock in /usr/local/lib/python3.9/dist-packages (from huggingface-hub>=0.4.0->sentence-transformers>=2.2.2->chromadb->-r requirements.txt (line 2)) (3.10.1)\n",
            "Requirement already satisfied: packaging>=20.9 in /usr/local/lib/python3.9/dist-packages (from huggingface-hub>=0.4.0->sentence-transformers>=2.2.2->chromadb->-r requirements.txt (line 2)) (23.0)\n",
            "Requirement already satisfied: six>=1.5 in /usr/local/lib/python3.9/dist-packages (from python-dateutil>=2.8.1->pandas>=1.3->chromadb->-r requirements.txt (line 2)) (1.16.0)\n",
            "Requirement already satisfied: anyio<5,>=3.4.0 in /usr/local/lib/python3.9/dist-packages (from starlette<0.27.0,>=0.26.1->fastapi>=0.85.1->chromadb->-r requirements.txt (line 2)) (3.6.2)\n",
            "Requirement already satisfied: tokenizers!=0.11.3,<0.14,>=0.11.1 in /usr/local/lib/python3.9/dist-packages (from transformers<5.0.0,>=4.6.0->sentence-transformers>=2.2.2->chromadb->-r requirements.txt (line 2)) (0.13.2)\n",
            "Requirement already satisfied: joblib in /usr/local/lib/python3.9/dist-packages (from nltk->sentence-transformers>=2.2.2->chromadb->-r requirements.txt (line 2)) (1.1.1)\n",
            "Requirement already satisfied: threadpoolctl>=2.0.0 in /usr/local/lib/python3.9/dist-packages (from scikit-learn->sentence-transformers>=2.2.2->chromadb->-r requirements.txt (line 2)) (3.1.0)\n",
            "Requirement already satisfied: pillow!=8.3.*,>=5.3.0 in /usr/local/lib/python3.9/dist-packages (from torchvision->sentence-transformers>=2.2.2->chromadb->-r requirements.txt (line 2)) (8.4.0)\n",
            "Requirement already satisfied: sniffio>=1.1 in /usr/local/lib/python3.9/dist-packages (from anyio<5,>=3.4.0->starlette<0.27.0,>=0.26.1->fastapi>=0.85.1->chromadb->-r requirements.txt (line 2)) (1.3.0)\n"
          ]
        }
      ]
    },
    {
      "cell_type": "markdown",
      "source": [
        "Import Python Packages"
      ],
      "metadata": {
        "id": "x3I7L7FAy9Mr"
      }
    },
    {
      "cell_type": "code",
      "source": [
        "import os\n",
        "import platform\n",
        "\n",
        "import openai\n",
        "import tiktoken\n",
        "\n",
        "import chromadb\n",
        "chroma_client = chromadb.Client()\n",
        "\n",
        "print('Python: ', platform.python_version())"
      ],
      "metadata": {
        "colab": {
          "base_uri": "https://localhost:8080/"
        },
        "id": "5_Iv9w1We3P1",
        "outputId": "bd7b56c5-fb4e-46d5-c69c-42dbd27ce0f6"
      },
      "execution_count": 187,
      "outputs": [
        {
          "output_type": "stream",
          "name": "stdout",
          "text": [
            "Running Chroma using direct local API.\n",
            "Using DuckDB in-memory for database. Data will be transient.\n",
            "Python:  3.9.16\n"
          ]
        }
      ]
    },
    {
      "cell_type": "markdown",
      "source": [
        "Mount Storage - Google Drive"
      ],
      "metadata": {
        "id": "3uA_sQDdzBos"
      }
    },
    {
      "cell_type": "code",
      "source": [
        "from google.colab import drive\n",
        "drive.mount('/content/drive')"
      ],
      "metadata": {
        "colab": {
          "base_uri": "https://localhost:8080/"
        },
        "id": "duz_YQdgfcA2",
        "outputId": "4beabd5e-706a-4fe8-907c-184278da35c9"
      },
      "execution_count": 188,
      "outputs": [
        {
          "output_type": "stream",
          "name": "stdout",
          "text": [
            "Drive already mounted at /content/drive; to attempt to forcibly remount, call drive.mount(\"/content/drive\", force_remount=True).\n"
          ]
        }
      ]
    },
    {
      "cell_type": "markdown",
      "source": [
        "Set OpenAI API Key"
      ],
      "metadata": {
        "id": "guDPqVN7zFPu"
      }
    },
    {
      "cell_type": "code",
      "source": [
        "os.environ[\"OPENAI_API_KEY\"] = \"openai api key\""
      ],
      "metadata": {
        "id": "130b-fkafhpN"
      },
      "execution_count": 189,
      "outputs": []
    },
    {
      "cell_type": "markdown",
      "source": [
        "Load ChromaDB"
      ],
      "metadata": {
        "id": "jzrkF64FzKjc"
      }
    },
    {
      "cell_type": "code",
      "source": [
        "from chromadb.config import Settings\n",
        "client = chromadb.Client(Settings(\n",
        "    chroma_db_impl=\"duckdb+parquet\",\n",
        "    persist_directory=\"/content/drive/My Drive/Colab Notebooks/chromadb/tax/\" # Optional, defaults to .chromadb/ in the current directory\n",
        "))"
      ],
      "metadata": {
        "colab": {
          "base_uri": "https://localhost:8080/",
          "height": 121,
          "referenced_widgets": [
            "60fc07691f2844a2a3cea6cea56dbb5e",
            "d748c45e29024ebaa01e4fe9dd96d29f",
            "cf9b090d2656405fb154df16527388e5"
          ]
        },
        "id": "6ZEs2Lnuek7Z",
        "outputId": "fbfb64de-7945-4872-ed58-628d8447ebe8"
      },
      "execution_count": 190,
      "outputs": [
        {
          "output_type": "stream",
          "name": "stdout",
          "text": [
            "Running Chroma using direct local API.\n"
          ]
        },
        {
          "output_type": "display_data",
          "data": {
            "text/plain": [
              "FloatProgress(value=0.0, layout=Layout(width='100%'), style=ProgressStyle(bar_color='black'))"
            ],
            "application/vnd.jupyter.widget-view+json": {
              "version_major": 2,
              "version_minor": 0,
              "model_id": "60fc07691f2844a2a3cea6cea56dbb5e"
            }
          },
          "metadata": {}
        },
        {
          "output_type": "stream",
          "name": "stdout",
          "text": [
            "loaded in 59866 embeddings\n",
            "loaded in 2 collections\n"
          ]
        }
      ]
    },
    {
      "cell_type": "code",
      "source": [
        "embeddings = openai.Embedding()\n",
        "irc_collection = client.get_collection(name=\"irc\", embedding_function=embeddings)\n",
        "irb_collection = client.get_collection(name=\"irb\", embedding_function=embeddings)"
      ],
      "metadata": {
        "id": "Tl9NUlDKfBaV"
      },
      "execution_count": 191,
      "outputs": []
    },
    {
      "cell_type": "markdown",
      "source": [
        "Define Functions"
      ],
      "metadata": {
        "id": "s_tqGbzizYRt"
      }
    },
    {
      "cell_type": "code",
      "source": [
        "def get_embedding(text, model=\"text-embedding-ada-002\"):\n",
        "   text = text.replace(\"\\n\", \" \")\n",
        "   return openai.Embedding.create(input = [text], model=model)['data'][0]['embedding']"
      ],
      "metadata": {
        "id": "YvlHIHobhCHV"
      },
      "execution_count": 192,
      "outputs": []
    },
    {
      "cell_type": "code",
      "source": [
        "def break_up_text_to_chunks(text, chunk_size=2000, overlap_size=100):\n",
        "    encoding = tiktoken.get_encoding(\"gpt2\")\n",
        "\n",
        "    tokens = encoding.encode(text)\n",
        "    num_tokens = len(tokens)\n",
        "\n",
        "    chunks = []\n",
        "    for i in range(0, num_tokens, chunk_size - overlap_size):\n",
        "        chunk = tokens[i:i + chunk_size]\n",
        "        chunks.append(chunk)\n",
        "    \n",
        "    return chunks"
      ],
      "metadata": {
        "id": "lwOHlc3hWnVD"
      },
      "execution_count": 197,
      "outputs": []
    },
    {
      "cell_type": "code",
      "source": [
        "def askTaxGPT(question):\n",
        "\n",
        "    #Change question to embeddings.\n",
        "    irc_question_ids = get_embedding(question)\n",
        "\n",
        "    #Query IRC collections.\n",
        "    irc_query_results = irc_collection.query(\n",
        "        query_embeddings=irc_question_ids,\n",
        "        n_results=10,\n",
        "        include=[\"documents\"]\n",
        "    )\n",
        "\n",
        "    #Join all items in a list\n",
        "    irc_documents = irc_query_results[\"documents\"][0]\n",
        "    irc_query_results_doc = \"\".join(irc_documents)\n",
        "\n",
        "    #For a given question, only return a list relevant Internal Revenue Codes that covers this topic.\n",
        "    prompt_response = []\n",
        "    encoding = tiktoken.get_encoding(\"gpt2\")\n",
        "    chunks = break_up_text_to_chunks(irc_query_results_doc)\n",
        "\n",
        "    for i, chunk in enumerate(chunks):\n",
        "        prompt_request = question + \" Only return a list relevant Internal Revenue Codes that covers this topic.: \" + encoding.decode(chunks[i])\n",
        "        response = openai.Completion.create(\n",
        "                model=\"text-davinci-003\",\n",
        "                prompt=prompt_request,\n",
        "                temperature=0,\n",
        "                max_tokens=1000,\n",
        "                top_p=1,\n",
        "                frequency_penalty=0,\n",
        "                presence_penalty=0\n",
        "        )        \n",
        "        prompt_response.append(response[\"choices\"][0][\"text\"].strip())\n",
        "\n",
        "    #Consolidate a list relevant Internal Revenue Codes that covers this topic.\n",
        "    prompt_request = \"Consoloidate these a list of Internal Revenue Codes: \" + str(prompt_response)\n",
        "\n",
        "    response = openai.Completion.create(\n",
        "            model=\"text-davinci-003\",\n",
        "            prompt=prompt_request,\n",
        "            temperature=0,\n",
        "            max_tokens=1000,\n",
        "            top_p=1,\n",
        "            frequency_penalty=0,\n",
        "            presence_penalty=0\n",
        "        )\n",
        "    \n",
        "    irc_codes = response[\"choices\"][0][\"text\"].strip()\n",
        "\n",
        "    #Change question to embeddings.\n",
        "    irb_question_ids = get_embedding(question + irc_codes)\n",
        "\n",
        "    #Query IRB collections.\n",
        "    irb_query_results = irb_collection.query(\n",
        "        query_embeddings=irb_question_ids,\n",
        "        n_results=20,\n",
        "        include=[\"documents\"]\n",
        "    )\n",
        "\n",
        "    #Join all items in a list\n",
        "    irb_documents = query_results[\"documents\"][0]\n",
        "    irb_query_results_doc = \"\".join(irb_documents)\n",
        "\n",
        "    #For a given question, provides answers, referencing I.R.C.\n",
        "    prompt_response = []\n",
        "    encoding = tiktoken.get_encoding(\"gpt2\")\n",
        "    chunks = break_up_text_to_chunks(irb_query_results_doc)\n",
        "\n",
        "    for i, chunk in enumerate(chunks):\n",
        "        prompt_request = question + \" Cite I.R.C. as references.\" + encoding.decode(chunks[i])\n",
        "        response = openai.Completion.create(\n",
        "                model=\"text-davinci-003\",\n",
        "                prompt=prompt_request,\n",
        "                temperature=0,\n",
        "                max_tokens=1000,\n",
        "                top_p=1,\n",
        "                frequency_penalty=0,\n",
        "                presence_penalty=0\n",
        "        )        \n",
        "        prompt_response.append(response[\"choices\"][0][\"text\"].strip())\n",
        "\n",
        "    prompt_request = question + \" Cite I.R.C. as references.\" + str(prompt_response)\n",
        "\n",
        "    response = openai.Completion.create(\n",
        "            model=\"text-davinci-003\",\n",
        "            prompt=prompt_request,\n",
        "            temperature=0,\n",
        "            max_tokens=1000,\n",
        "            top_p=1,\n",
        "            frequency_penalty=0,\n",
        "            presence_penalty=0            \n",
        "        )    \n",
        "    \n",
        "    return response[\"choices\"][0][\"text\"].strip()"
      ],
      "metadata": {
        "id": "8vGnq6C3z4A_"
      },
      "execution_count": 228,
      "outputs": []
    },
    {
      "cell_type": "markdown",
      "source": [
        "Questions and Answers"
      ],
      "metadata": {
        "id": "XfGbvk7g6YHU"
      }
    },
    {
      "cell_type": "code",
      "source": [
        "answer = askTaxGPT(\"I am USA citizen who is working for a USA-based company, but lived outside of USA for the calendar year. Do I still need to pay income tax?\")"
      ],
      "metadata": {
        "colab": {
          "base_uri": "https://localhost:8080/"
        },
        "id": "j2-vJYv04NTj",
        "outputId": "415045c9-2bf3-4870-cdce-9eff5a69c6bf"
      },
      "execution_count": 230,
      "outputs": [
        {
          "output_type": "stream",
          "name": "stderr",
          "text": [
            "DEBUG:Chroma:time to pre process our knn query: 4.291534423828125e-06\n",
            "DEBUG:Chroma:time to run knn query: 0.0003650188446044922\n",
            "DEBUG:Chroma:time to pre process our knn query: 3.5762786865234375e-06\n",
            "DEBUG:Chroma:time to run knn query: 0.0005962848663330078\n"
          ]
        }
      ]
    },
    {
      "cell_type": "code",
      "source": [
        "answer"
      ],
      "metadata": {
        "colab": {
          "base_uri": "https://localhost:8080/",
          "height": 139
        },
        "id": "utMc5hAU4xHR",
        "outputId": "d7a27b65-7be1-46e2-e9f2-9da3a401e28d"
      },
      "execution_count": 231,
      "outputs": [
        {
          "output_type": "execute_result",
          "data": {
            "text/plain": [
              "'In summary, a USA citizen who is working for a USA-based company and living outside of the USA for the calendar year is still required to pay income tax. The Internal Revenue Code (I.R.C.) does not exclude income derived in the U.S. from taxable income. The I.R.C. defines a taxpayer as any person subject to any internal revenue tax and further defines a person as an individual, trust, estate, partnership, association, company or corporation. Taxpayers are required to disclose foreign financial accounts to the Treasury Department and to report the income earned thereon. Taxpayers must report income earned as an individual on a Form 1040 and may not attribute the income to a trust created solely for the purpose of tax-avoidance, or claim deductions related to any expenses purportedly incurred by such a trust. Business expenses, including expenses related to a home-based business, are not deductible unless the expenses relate to a legitimate profit-seeking trade or business. Taxpayers are required to file returns and pay any tax owed. Additionally, taxpayers may be subject to additional taxes or penalties if they fail to comply with the I.R.C. and related regulations.'"
            ],
            "application/vnd.google.colaboratory.intrinsic+json": {
              "type": "string"
            }
          },
          "metadata": {},
          "execution_count": 231
        }
      ]
    },
    {
      "cell_type": "code",
      "source": [
        "answer = askTaxGPT(\"I am USA citizen who Lives in Colombia and is working for a USA-based company for the calendar year. I am required to pay income tax to Colombian government as part of my visa. Do I still need to pay income tax to USA?\")"
      ],
      "metadata": {
        "colab": {
          "base_uri": "https://localhost:8080/"
        },
        "id": "Q13kO4uJ5Ke0",
        "outputId": "bb3a482d-efac-49ae-9ac0-091a481f3e8e"
      },
      "execution_count": 232,
      "outputs": [
        {
          "output_type": "stream",
          "name": "stderr",
          "text": [
            "DEBUG:Chroma:time to pre process our knn query: 4.0531158447265625e-06\n",
            "DEBUG:Chroma:time to run knn query: 0.001069784164428711\n",
            "DEBUG:Chroma:time to pre process our knn query: 4.291534423828125e-06\n",
            "DEBUG:Chroma:time to run knn query: 0.0006427764892578125\n"
          ]
        }
      ]
    },
    {
      "cell_type": "code",
      "source": [
        "answer"
      ],
      "metadata": {
        "colab": {
          "base_uri": "https://localhost:8080/",
          "height": 139
        },
        "id": "DvMxBWFh5fnH",
        "outputId": "d8be7cbb-b41c-4fe8-b0e6-ac9de0b0f8e6"
      },
      "execution_count": 233,
      "outputs": [
        {
          "output_type": "execute_result",
          "data": {
            "text/plain": [
              "'In conclusion, a USA citizen who lives in Colombia and is working for a USA-based company for the calendar year is required to pay income tax to the Colombian government as part of their visa. However, they are still required to pay income tax to the USA, as there is no exclusion from taxable income under the Internal Revenue Code (IRC). The IRC provides that a dual resident taxpayer who is treated as a nonresident alien for purposes of computing their US tax liability is not considered a US person for the taxable year. Furthermore, the IRC defines withholding as the deduction and withholding of tax at the applicable rate from a payment. Finally, the IRC provides that a civilian spouse who claims tax residence in a US territory under the Military Spouses Residency Relief Act (MSRRA) and is a bona fide resident of the US territory is not required to file a US federal income tax return or pay US federal income tax on income derived from sources within the US territory. For more information, please refer to IRS Publication 570.'"
            ],
            "application/vnd.google.colaboratory.intrinsic+json": {
              "type": "string"
            }
          },
          "metadata": {},
          "execution_count": 233
        }
      ]
    }
  ]
}